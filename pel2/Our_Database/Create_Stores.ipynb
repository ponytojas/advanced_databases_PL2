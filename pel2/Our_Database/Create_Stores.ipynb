{
 "cells": [
  {
   "cell_type": "code",
   "execution_count": 1,
   "metadata": {},
   "outputs": [],
   "source": [
    "import pandas as pd\n",
    "import random as rd\n",
    "from uuid import uuid4 as uuid"
   ]
  },
  {
   "cell_type": "code",
   "execution_count": 2,
   "metadata": {},
   "outputs": [],
   "source": [
    "provinces_csv = pd.read_csv('provincias.csv')"
   ]
  },
  {
   "cell_type": "code",
   "execution_count": 3,
   "metadata": {},
   "outputs": [],
   "source": [
    "provinces = provinces_csv['name'].to_list()\n",
    "del provinces_csv"
   ]
  },
  {
   "cell_type": "code",
   "execution_count": 4,
   "metadata": {},
   "outputs": [
    {
     "name": "stdout",
     "output_type": "stream",
     "text": [
      "20362\n",
      "202850\n"
     ]
    }
   ],
   "source": [
    "cities_provinces= dict()\n",
    "contador_ciudades = 0\n",
    "cities_dict = dict()\n",
    "contador_barrios = 0\n",
    "\n",
    "\n",
    "for province in provinces:\n",
    "    cities_provinces[province]= []\n",
    "    index_random = rd.randint(80, 680)\n",
    "    contador_ciudades += index_random\n",
    "    \n",
    "    for index in range(index_random):\n",
    "        city = 'city_' + str(uuid().hex)\n",
    "        cities_provinces[province].append(city)\n",
    "        cities_dict[city] = []\n",
    "        \n",
    "        index_barrios = rd.randint(5, 15)\n",
    "        contador_barrios += index_barrios\n",
    "        for index_2 in range (index_barrios):\n",
    "            barrio = 'neighborhood_' + str(uuid().hex)\n",
    "            cities_dict[city].append(barrio)\n",
    "\n",
    "print(contador_ciudades)\n",
    "print(contador_barrios)\n"
   ]
  },
  {
   "cell_type": "code",
   "execution_count": 5,
   "metadata": {},
   "outputs": [],
   "source": [
    "stores = []\n",
    "for index in range (200000):\n",
    "    stores.append('store_' + str(index + 1))"
   ]
  },
  {
   "cell_type": "code",
   "execution_count": 6,
   "metadata": {},
   "outputs": [],
   "source": [
    "list_for_csv = []\n",
    "records_to_insert = []\n",
    "for store in stores:\n",
    "    temp_province = rd.choice(provinces)\n",
    "    temp_city = rd.choice(cities_provinces[temp_province])\n",
    "    temp_neighborhood = rd.choice(cities_dict[temp_city])\n",
    "    \n",
    "    list_for_csv.append(\n",
    "        {\n",
    "            'Nombre': store, \n",
    "            'Ciudad': temp_city, \n",
    "            'Barrio': temp_neighborhood, \n",
    "            'Provincia': temp_province\n",
    "        }\n",
    "    )\n",
    "    \n",
    "    records_to_insert.append((store, temp_city, temp_neighborhood, temp_province))"
   ]
  },
  {
   "cell_type": "code",
   "execution_count": 7,
   "metadata": {
    "scrolled": true
   },
   "outputs": [],
   "source": [
    "df = pd.DataFrame.from_dict(list_for_csv)\n",
    "df.to_csv('./Tienda.csv', sep=';', index = False, encoding=\"utf-8\")"
   ]
  },
  {
   "cell_type": "code",
   "execution_count": 8,
   "metadata": {
    "scrolled": false
   },
   "outputs": [],
   "source": [
    "# Insertar mediante transaccion en la base de datos #"
   ]
  },
  {
   "cell_type": "code",
   "execution_count": 9,
   "metadata": {},
   "outputs": [],
   "source": [
    "import psycopg2"
   ]
  },
  {
   "cell_type": "code",
   "execution_count": 10,
   "metadata": {},
   "outputs": [],
   "source": [
    "try:\n",
    "   connection = psycopg2.connect(host=\"localhost\",database=\"pel2\", user=\"postgres\", password=\"postgres\")\n",
    "except (Exception, psycopg2.Error) as error :\n",
    "    print (\"Error while connecting to PostgreSQL\", error)\n"
   ]
  },
  {
   "cell_type": "code",
   "execution_count": 11,
   "metadata": {},
   "outputs": [],
   "source": [
    "cursor = connection.cursor()"
   ]
  },
  {
   "cell_type": "code",
   "execution_count": 12,
   "metadata": {},
   "outputs": [
    {
     "name": "stdout",
     "output_type": "stream",
     "text": [
      "200000 Record inserted successfully into store table\n"
     ]
    }
   ],
   "source": [
    "try:\n",
    "    sql_insert_query = \"\"\" INSERT INTO store (name, city, neighbourhood, province) \n",
    "                           VALUES (%s,%s,%s,%s) \"\"\"\n",
    "\n",
    "    \n",
    "    result = cursor.executemany(sql_insert_query, records_to_insert)\n",
    "    connection.commit()\n",
    "    print(cursor.rowcount, \"Record inserted successfully into store table\")\n",
    "\n",
    "except (Exception, psycopg2.Error) as error:\n",
    "        print(\"Failed inserting record into store table {}\".format(error))"
   ]
  },
  {
   "cell_type": "code",
   "execution_count": null,
   "metadata": {},
   "outputs": [],
   "source": []
  }
 ],
 "metadata": {
  "kernelspec": {
   "display_name": "Python 3",
   "language": "python",
   "name": "python3"
  },
  "language_info": {
   "codemirror_mode": {
    "name": "ipython",
    "version": 3
   },
   "file_extension": ".py",
   "mimetype": "text/x-python",
   "name": "python",
   "nbconvert_exporter": "python",
   "pygments_lexer": "ipython3",
   "version": "3.8.2"
  }
 },
 "nbformat": 4,
 "nbformat_minor": 4
}
