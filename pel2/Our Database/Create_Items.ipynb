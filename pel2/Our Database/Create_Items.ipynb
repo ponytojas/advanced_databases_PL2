{
 "cells": [
  {
   "cell_type": "code",
   "execution_count": 1,
   "metadata": {},
   "outputs": [],
   "source": [
    "import pandas as pd\n",
    "import random as rd"
   ]
  },
  {
   "cell_type": "code",
   "execution_count": 2,
   "metadata": {},
   "outputs": [],
   "source": [
    "counter = 1\n",
    "item_name =[]\n",
    "\n",
    "for index in range(0, 1000000):\n",
    "    item_name.append('item_' + str(counter))\n",
    "    counter += 1\n"
   ]
  },
  {
   "cell_type": "code",
   "execution_count": 3,
   "metadata": {},
   "outputs": [],
   "source": [
    "counter = 1\n",
    "item_type = []\n",
    "\n",
    "for index in range(0, 300):\n",
    "    item_type.append('type_' + str(counter))\n",
    "    counter += 1"
   ]
  },
  {
   "cell_type": "code",
   "execution_count": 4,
   "metadata": {},
   "outputs": [],
   "source": [
    "dict_items = []\n",
    "barcode_counter = 0\n",
    "records_to_insert = []\n",
    "\n",
    "for item in item_name:\n",
    "    barcode_counter += 1\n",
    "    barcode = str(barcode_counter).zfill(7)  \n",
    "    type_item = rd.choice(item_type)\n",
    "    price = rd.randint(50, 1000)\n",
    "    description = \"Nombre: \" + str(item) + \"   Tipo: \" + str(type_item) +\"   Precio: \" + str(price)\n",
    "    \n",
    "    records_to_insert.append((barcode, item, type_item, description, price))\n",
    "    \n",
    "    item_final = {'Codigo de barras': barcode, 'Nombre': item, 'Tipo': type_item, 'Descripcion': description, 'Precio': price}\n",
    "    dict_items.append(item_final)\n"
   ]
  },
  {
   "cell_type": "code",
   "execution_count": 5,
   "metadata": {},
   "outputs": [],
   "source": [
    "df = pd.DataFrame.from_dict(dict_items)\n",
    "df.to_csv('./Productos.csv', sep=';', index = False)"
   ]
  },
  {
   "cell_type": "code",
   "execution_count": 6,
   "metadata": {},
   "outputs": [],
   "source": [
    "# Insertar mediante transaccion en la base de datos #"
   ]
  },
  {
   "cell_type": "code",
   "execution_count": 7,
   "metadata": {},
   "outputs": [],
   "source": [
    "import psycopg2"
   ]
  },
  {
   "cell_type": "code",
   "execution_count": 8,
   "metadata": {},
   "outputs": [],
   "source": [
    "try:\n",
    "   connection = psycopg2.connect(host=\"localhost\",database=\"pel2\", user=\"postgres\", password=\"postgres\")\n",
    "except (Exception, psycopg2.Error) as error :\n",
    "    print (\"Error while connecting to PostgreSQL\", error)"
   ]
  },
  {
   "cell_type": "code",
   "execution_count": 9,
   "metadata": {},
   "outputs": [],
   "source": [
    "cursor = connection.cursor()"
   ]
  },
  {
   "cell_type": "code",
   "execution_count": null,
   "metadata": {},
   "outputs": [],
   "source": [
    "try:\n",
    "    sql_insert_query = \"\"\" INSERT INTO item (barcode, name, type, description, price) \n",
    "                           VALUES (%s,%s,%s,%s,%s) \"\"\"\n",
    "\n",
    "    \n",
    "    result = cursor.executemany(sql_insert_query, records_to_insert)\n",
    "    connection.commit()\n",
    "    print(cursor.rowcount, \"Record inserted successfully into store table\")\n",
    "\n",
    "except (Exception, psycopg2.Error) as error:\n",
    "        print(\"Failed inserting record into item table {}\".format(error))"
   ]
  },
  {
   "cell_type": "code",
   "execution_count": null,
   "metadata": {},
   "outputs": [],
   "source": []
  }
 ],
 "metadata": {
  "kernelspec": {
   "display_name": "Python 3",
   "language": "python",
   "name": "python3"
  },
  "language_info": {
   "codemirror_mode": {
    "name": "ipython",
    "version": 3
   },
   "file_extension": ".py",
   "mimetype": "text/x-python",
   "name": "python",
   "nbconvert_exporter": "python",
   "pygments_lexer": "ipython3",
   "version": "3.8.2"
  }
 },
 "nbformat": 4,
 "nbformat_minor": 2
}
