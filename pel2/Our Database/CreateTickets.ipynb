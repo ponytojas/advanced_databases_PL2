{
 "cells": [
  {
   "cell_type": "code",
   "execution_count": 1,
   "metadata": {},
   "outputs": [],
   "source": [
    "import random as rd\n",
    "import psycopg2\n",
    "from datetime import datetime as dt"
   ]
  },
  {
   "cell_type": "code",
   "execution_count": 2,
   "metadata": {},
   "outputs": [],
   "source": [
    "try:\n",
    "   connection = psycopg2.connect(host=\"localhost\",database=\"pel2\", user=\"postgres\", password=\"admin\")\n",
    "except (Exception, psycopg2.Error) as error :\n",
    "    print (\"Error while connecting to PostgreSQL\", error)"
   ]
  },
  {
   "cell_type": "code",
   "execution_count": 3,
   "metadata": {},
   "outputs": [],
   "source": [
    "cursor = connection.cursor()"
   ]
  },
  {
   "cell_type": "code",
   "execution_count": 4,
   "metadata": {},
   "outputs": [],
   "source": [
    "list_employees= []\n",
    "\n",
    "try:\n",
    "    select_query_store= \"select employee.id from employee;\"\n",
    "    cursor.execute(select_query_store)\n",
    "    list_employees=cursor.fetchall()\n",
    "except (Exception, psycopg2.Error) as error :\n",
    "    print (\"Error while connecting to PostgreSQL\", error)"
   ]
  },
  {
   "cell_type": "code",
   "execution_count": 5,
   "metadata": {},
   "outputs": [],
   "source": [
    "start_date = dt(2019, 1, 1).toordinal()\n",
    "end_date = dt(2019,12,31).toordinal()\n",
    "\n",
    "list_of_days = [rd.randint(start_date, end_date) for iter in range(5000000)]\n",
    "rd.shuffle(list_of_days)"
   ]
  },
  {
   "cell_type": "code",
   "execution_count": null,
   "metadata": {},
   "outputs": [],
   "source": [
    "records_to_insert = []\n",
    "\n",
    "for index in range(5000000):\n",
    "    id_employee= rd.choice(list_employees)\n",
    "    random_day = dt.fromordinal(list_of_days.pop())\n",
    "    random_day = random_day.strftime('%Y-%m-%d')\n",
    "    records_to_insert.append((rd.randint(100,10000), random_day, id_employee[0]))"
   ]
  },
  {
   "cell_type": "code",
   "execution_count": null,
   "metadata": {},
   "outputs": [],
   "source": [
    "try:\n",
    "    sql_insert_query = \"\"\" INSERT INTO tickets (total_price, invoice_date, employee_id) \n",
    "                           VALUES (%s,%s,%s) \"\"\"\n",
    "\n",
    "    \n",
    "    result = cursor.executemany(sql_insert_query, records_to_insert)\n",
    "    connection.commit()\n",
    "    print(cursor.rowcount, \"Record inserted successfully into store table\")\n",
    "\n",
    "except (Exception, psycopg2.Error) as error:\n",
    "        print(\"Failed inserting record into store table {}\".format(error))"
   ]
  },
  {
   "cell_type": "code",
   "execution_count": null,
   "metadata": {},
   "outputs": [],
   "source": []
  }
 ],
 "metadata": {
  "kernelspec": {
   "display_name": "Python 3",
   "language": "python",
   "name": "python3"
  },
  "language_info": {
   "codemirror_mode": {
    "name": "ipython",
    "version": 3
   },
   "file_extension": ".py",
   "mimetype": "text/x-python",
   "name": "python",
   "nbconvert_exporter": "python",
   "pygments_lexer": "ipython3",
   "version": "3.7.7"
  }
 },
 "nbformat": 4,
 "nbformat_minor": 4
}
