{
 "cells": [
  {
   "cell_type": "code",
   "execution_count": 1,
   "metadata": {},
   "outputs": [],
   "source": [
    "import random as rd\n",
    "import psycopg2\n",
    "from datetime import datetime as dt"
   ]
  },
  {
   "cell_type": "code",
   "execution_count": 2,
   "metadata": {},
   "outputs": [],
   "source": [
    "try:\n",
    "   connection = psycopg2.connect(host=\"localhost\",database=\"pel2\", user=\"postgres\", password=\"postgres\")\n",
    "except (Exception, psycopg2.Error) as error :\n",
    "    print (\"Error while connecting to PostgreSQL\", error)"
   ]
  },
  {
   "cell_type": "code",
   "execution_count": 3,
   "metadata": {},
   "outputs": [],
   "source": [
    "cursor = connection.cursor()"
   ]
  },
  {
   "cell_type": "code",
   "execution_count": 4,
   "metadata": {},
   "outputs": [],
   "source": [
    "list_tickets= []\n",
    "barcode_item = []\n",
    "\n",
    "try:\n",
    "    select_query_store= \"select tickets.ticket_number from tickets\"\n",
    "    cursor.execute(select_query_store)\n",
    "    list_tickets=cursor.fetchall()\n",
    "    select_query_item= \"select item.barcode from item\"\n",
    "    cursor.execute(select_query_item)\n",
    "    barcode_item=cursor.fetchall()\n",
    "except (Exception, psycopg2.Error) as error :\n",
    "    print (\"Error while connecting to PostgreSQL\", error)"
   ]
  },
  {
   "cell_type": "code",
   "execution_count": 5,
   "metadata": {},
   "outputs": [],
   "source": [
    "records_to_insert = []\n",
    "\n",
    "for ticket in list_tickets:\n",
    "    index_item = rd.randint(1,10)\n",
    "    list_barcodes_for_store = []\n",
    "    for index in range(index_item):\n",
    "        barcode = rd.choice(barcode_item)\n",
    "        \n",
    "        while (barcode in list_barcodes_for_store):\n",
    "            barcode = rd.choice(barcode_item)\n",
    "            \n",
    "        list_barcodes_for_store.append(barcode)\n",
    "        \n",
    "        barcode = barcode[0]\n",
    "        records_to_insert.append((ticket[0], barcode, rd.randint(1,10)))"
   ]
  },
  {
   "cell_type": "code",
   "execution_count": 6,
   "metadata": {},
   "outputs": [
    {
     "name": "stdout",
     "output_type": "stream",
     "text": [
      "27499354 Record inserted successfully into store table\n"
     ]
    }
   ],
   "source": [
    "try:\n",
    "    sql_insert_query = \"\"\" INSERT INTO items_ticket (ticket_number, item_barcode, quantity) \n",
    "                           VALUES (%s,%s,%s) \"\"\"\n",
    "\n",
    "    \n",
    "    result = cursor.executemany(sql_insert_query, records_to_insert)\n",
    "    connection.commit()\n",
    "    print(cursor.rowcount, \"Record inserted successfully into store table\")\n",
    "\n",
    "except (Exception, psycopg2.Error) as error:\n",
    "        print(\"Failed inserting record into store table {}\".format(error))"
   ]
  }
 ],
 "metadata": {
  "kernelspec": {
   "display_name": "Python 3",
   "language": "python",
   "name": "python3"
  },
  "language_info": {
   "codemirror_mode": {
    "name": "ipython",
    "version": 3
   },
   "file_extension": ".py",
   "mimetype": "text/x-python",
   "name": "python",
   "nbconvert_exporter": "python",
   "pygments_lexer": "ipython3",
   "version": "3.8.2"
  }
 },
 "nbformat": 4,
 "nbformat_minor": 4
}
