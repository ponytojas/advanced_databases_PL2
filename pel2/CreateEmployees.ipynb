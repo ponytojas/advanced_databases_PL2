{
 "cells": [
  {
   "cell_type": "code",
   "execution_count": 1,
   "metadata": {},
   "outputs": [],
   "source": [
    "import pandas as pd\n",
    "import random as rd"
   ]
  },
  {
   "cell_type": "code",
   "execution_count": 2,
   "metadata": {},
   "outputs": [],
   "source": [
    "def generarDNI(numero):\n",
    "    letras=['T', 'R', 'W', 'A', 'G', 'M', 'Y', 'F', 'P', 'D', 'X', 'B', 'N', 'J', 'Z', 'S', 'Q', 'V', 'H', 'L','C', 'K', 'E', 'O']\n",
    "    dni = str(numero)+letras[numero%23]\n",
    "    return dni"
   ]
  },
  {
   "cell_type": "code",
   "execution_count": 3,
   "metadata": {},
   "outputs": [],
   "source": [
    "men_df = pd.read_csv('./NameAndSurname/hombres.csv')\n",
    "men_list = men_df['nombre'].to_list()\n",
    "del men_df\n",
    "\n",
    "women_df = pd.read_csv('./NameAndSurname/mujeres.csv')\n",
    "women_list = women_df['nombre'].to_list()\n",
    "del women_df\n",
    "\n",
    "names_list = men_list + women_list\n",
    "\n",
    "\n",
    "rd.shuffle(names_list)"
   ]
  },
  {
   "cell_type": "code",
   "execution_count": 4,
   "metadata": {},
   "outputs": [],
   "source": [
    "surname_df = pd.read_csv('./NameAndSurname/apellidos.csv')\n",
    "surname_df2 = pd.read_csv('./NameAndSurname/apellidos-20.csv')\n",
    "surname_list = surname_df['apellido'].to_list() + surname_df2['apellido'].to_list()\n",
    "\n",
    "del surname_df\n",
    "del surname_df2\n",
    "\n",
    "rd.shuffle(surname_list)"
   ]
  },
  {
   "cell_type": "code",
   "execution_count": 5,
   "metadata": {},
   "outputs": [],
   "source": [
    "puestos = ['Manager', 'Restocker', 'Cashier', 'Assistant']"
   ]
  },
  {
   "cell_type": "code",
   "execution_count": 6,
   "metadata": {},
   "outputs": [],
   "source": [
    "random_numbers = rd.sample(range(1, 100000000), 1000000)\n",
    "rd.shuffle(random_numbers)"
   ]
  },
  {
   "cell_type": "code",
   "execution_count": 7,
   "metadata": {},
   "outputs": [],
   "source": [
    "result_list = []\n",
    "records_to_insert = []\n",
    "\n",
    "for index in range(1000000):\n",
    "    temp = {}\n",
    "    tempDNI = generarDNI(random_numbers[index])\n",
    "    temp['DNI'] = tempDNI\n",
    "    temp['Nombre'] = rd.choice(names_list)\n",
    "    temp['Apellidos'] = rd.choice(surname_list)+ ' ' + rd.choice(surname_list)\n",
    "    temp['Puesto'] = rd.choice(puestos)\n",
    "    temp['Salario'] = rd.randint(1000, 5000)\n",
    "    \n",
    "    records_to_insert.append((rd.randint(1,200000), temp['DNI'], temp['Nombre'], temp['Apellidos'], temp['Puesto'], temp['Salario']))\n",
    "    result_list.append(temp)"
   ]
  },
  {
   "cell_type": "code",
   "execution_count": 8,
   "metadata": {},
   "outputs": [],
   "source": [
    "df = pd.DataFrame(result_list)\n",
    "df.to_csv('./Employees.csv', sep=';', index=False)"
   ]
  },
  {
   "cell_type": "code",
   "execution_count": 9,
   "metadata": {},
   "outputs": [],
   "source": [
    "# Insertar mediante transaccion en la base de datos #"
   ]
  },
  {
   "cell_type": "code",
   "execution_count": 10,
   "metadata": {},
   "outputs": [],
   "source": [
    "import psycopg2"
   ]
  },
  {
   "cell_type": "code",
   "execution_count": 11,
   "metadata": {},
   "outputs": [],
   "source": [
    "try:\n",
    "   connection = psycopg2.connect(host=\"localhost\",database=\"pel2\", user=\"postgres\", password=\"admin\")\n",
    "except (Exception, psycopg2.Error) as error :\n",
    "    print (\"Error while connecting to PostgreSQL\", error)"
   ]
  },
  {
   "cell_type": "code",
   "execution_count": 12,
   "metadata": {},
   "outputs": [],
   "source": [
    "cursor = connection.cursor()"
   ]
  },
  {
   "cell_type": "code",
   "execution_count": 13,
   "metadata": {},
   "outputs": [
    {
     "name": "stdout",
     "output_type": "stream",
     "text": [
      "1000000 Record inserted successfully into store table\n"
     ]
    }
   ],
   "source": [
    "try:\n",
    "    sql_insert_query = \"\"\" INSERT INTO employee (store, dni, first_name, last_name, position, salary) \n",
    "                           VALUES (%s,%s,%s,%s,%s,%s) \"\"\"\n",
    "\n",
    "    \n",
    "    result = cursor.executemany(sql_insert_query, records_to_insert)\n",
    "    connection.commit()\n",
    "    print(cursor.rowcount, \"Record inserted successfully into store table\")\n",
    "\n",
    "except (Exception, psycopg2.Error) as error:\n",
    "        print(\"Failed inserting record into store table {}\".format(error))"
   ]
  }
 ],
 "metadata": {
  "kernelspec": {
   "display_name": "Python 3",
   "language": "python",
   "name": "python3"
  },
  "language_info": {
   "codemirror_mode": {
    "name": "ipython",
    "version": 3
   },
   "file_extension": ".py",
   "mimetype": "text/x-python",
   "name": "python",
   "nbconvert_exporter": "python",
   "pygments_lexer": "ipython3",
   "version": "3.7.7"
  }
 },
 "nbformat": 4,
 "nbformat_minor": 2
}
